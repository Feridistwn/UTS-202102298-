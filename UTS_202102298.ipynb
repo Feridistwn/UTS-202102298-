{
 "cells": [
  {
   "cell_type": "code",
   "execution_count": 32,
   "id": "4aba6637",
   "metadata": {
    "scrolled": true
   },
   "outputs": [
    {
     "name": "stdout",
     "output_type": "stream",
     "text": [
      "CURICULLUM VITAE\n",
      "*************************************************************\n",
      "\n",
      "Nama                 :  Feri Adi Setiawan\n",
      "Jenis Kelamin         :  Laki-laki\n",
      "Kebangsaan            :  Indonesia\n",
      "Alamat                :  Dusun Parit Mayor Jl.Nurul Huda 8G\n",
      "Tempat Tanggal Lahir  :  PONTIANAK/04 SEPTEMBER 2002\n",
      "Hobi                  :  Bermain game dan Otomotif\n",
      "*************************************************************\n",
      "Pendidikan Formal\n",
      "*************************************************************\n",
      "\n",
      "- SDN 02 SUNGAI RAYA\n",
      "- SMPN 01 SUNGAI RAYA\n",
      "- SMAN 02 SUNGAI RAYA\n",
      "*************************************************************\n",
      "Pendidikan Non-formal\n",
      "*************************************************************\n",
      "\n",
      "- PRAMUKA WAJIB SMA\n",
      "*************************************************************\n",
      "Prestasi\n",
      "*************************************************************\n",
      "\n",
      "- Juara 1 kelas 250cc\n",
      "*************************************************************\n",
      "Pengalaman Kerja\n",
      "*************************************************************\n",
      "\n",
      "- Bekerja sebagai Admin Toko Kaca Fortuna\n",
      "\n",
      "*************************************************************\n",
      "Organisasi\n",
      "*************************************************************\n",
      "\n",
      "- TAEKWONDO INDONESIA\n",
      "\n",
      "*************************************************************\n",
      "Kontak\n",
      "*************************************************************\n",
      "\n",
      "- 085904946766 (WhatsApp)\n",
      "- Feri Adi Setiawan (Facebook)\n",
      "- @Feridistwn(Instagram)\n",
      "- jaxferi39@gmail.com (Email)\n"
     ]
    }
   ],
   "source": [
    "judul1 =\"CURICULLUM VITAE\"\n",
    "judul2 =\"Pendidikan Formal\"\n",
    "judul2b =\"Pendidikan Non-formal\"\n",
    "judul3 =\"Prestasi\"\n",
    "judul4 =\"Pengalaman Kerja\"\n",
    "judul5 =\"Organisasi\"\n",
    "judul6 =\"Kontak\"\n",
    "nama=\"Feri Adi Setiawan\"\n",
    "Ttl=\"PONTIANAK/04 SEPTEMBER 2002\"\n",
    "Hobi=\"Bermain game dan Otomotif\"\n",
    "gender=\"Laki-laki\"\n",
    "nationality=\"Indonesia\"\n",
    "alamat = \"\"\"Dusun Parit Mayor Jl.Nurul Huda 8G\"\"\"\n",
    "pendidikan_formal =\"\"\"\n",
    "- SDN 02 SUNGAI RAYA\n",
    "- SMPN 01 SUNGAI RAYA\n",
    "- SMAN 02 SUNGAI RAYA\"\"\"\n",
    "pendidikan_non_formal =\"\"\"\n",
    "- PRAMUKA WAJIB SMA\"\"\"\n",
    "prestasi=\"\"\"\n",
    "- Juara 1 kelas 250cc\"\"\"\n",
    "pengalaman=\"\"\"\n",
    "- Bekerja sebagai Admin Toko Kaca Fortuna\n",
    "\"\"\"\n",
    "organisasi=\"\"\"\n",
    "- TAEKWONDO INDONESIA\n",
    "\"\"\"\n",
    "kontak=\"\"\"\n",
    "- 085904946766 (WhatsApp)\n",
    "- Feri Adi Setiawan (Facebook)\n",
    "- @Feridistwn(Instagram)\n",
    "- jaxferi39@gmail.com (Email)\"\"\"\n",
    "\n",
    "#cetak judul\n",
    "print (format(judul1))\n",
    "print(\"*************************************************************\")\n",
    "#cetak subjudul\n",
    "print(\"\\nNama                 : \", nama)\n",
    "print(\"Jenis Kelamin         : \", gender)\n",
    "print(\"Kebangsaan            : \", nationality)\n",
    "print(\"Alamat                : \", alamat)\n",
    "print(\"Tempat Tanggal Lahir  : \", Ttl)\n",
    "print(\"Hobi                  : \", Hobi)\n",
    "#cetak judul\n",
    "print(\"*************************************************************\")\n",
    "print(format(judul2))\n",
    "print(\"*************************************************************\")\n",
    "print(pendidikan_formal)\n",
    "#cetak judul\n",
    "print(\"*************************************************************\")\n",
    "print (format(judul2b))\n",
    "print(\"*************************************************************\")\n",
    "print(pendidikan_non_formal)\n",
    "#cetak judul\n",
    "print(\"*************************************************************\")\n",
    "print (format(judul3))\n",
    "print(\"*************************************************************\")\n",
    "print(prestasi)\n",
    "#cetak judul\n",
    "print(\"*************************************************************\")\n",
    "print (format(judul4))\n",
    "print(\"*************************************************************\")\n",
    "print(pengalaman)\n",
    "#cetak judul\n",
    "print(\"*************************************************************\")\n",
    "print (format(judul5))\n",
    "print(\"*************************************************************\")\n",
    "print(organisasi)\n",
    "#cetak judul\n",
    "print(\"*************************************************************\")\n",
    "print (format(judul6))\n",
    "print(\"*************************************************************\")\n",
    "print(kontak)\n"
   ]
  },
  {
   "cell_type": "code",
   "execution_count": 36,
   "id": "003017dd",
   "metadata": {},
   "outputs": [
    {
     "name": "stdout",
     "output_type": "stream",
     "text": [
      "MASUKAN PANJANG DAN LEBAR\n",
      "panjang:10\n",
      "lebar:10\n",
      "Luas Persegi Panjang Adalah: 100\n"
     ]
    }
   ],
   "source": [
    "print (\"MASUKAN PANJANG DAN LEBAR\")\n",
    "panjang = int(input(\"panjang:\"))\n",
    "lebar = int(input(\"lebar:\"))\n",
    "#RUMUS\n",
    "luas = panjang*lebar\n",
    "#PRINTOUT\n",
    "print (\"Luas Persegi Panjang Adalah:\",luas)"
   ]
  },
  {
   "cell_type": "code",
   "execution_count": 46,
   "id": "612520e7",
   "metadata": {},
   "outputs": [
    {
     "name": "stdout",
     "output_type": "stream",
     "text": [
      "MASUKAN NILAI CELCIUS\n",
      "celcius:100\n",
      "Hasil Celcius Menjadi Reamur dan Fahrenhiet Adalah :\n",
      "reamur: 80.0\n",
      "fahrenheit: 212.0\n"
     ]
    }
   ],
   "source": [
    "print (\"MASUKAN NILAI CELCIUS\")\n",
    "celcius = int(input(\"celcius:\"))\n",
    "#RUMUS\n",
    "reamur = celcius*0.8\n",
    "fahrenheit = celcius*1.8 + 32\n",
    "#PRINTOUT\n",
    "print (\"Hasil Celcius Menjadi Reamur dan Fahrenhiet Adalah :\")\n",
    "print (\"reamur:\",reamur)\n",
    "print (\"fahrenheit:\",fahrenheit)"
   ]
  },
  {
   "cell_type": "code",
   "execution_count": 64,
   "id": "6736d33a",
   "metadata": {},
   "outputs": [
    {
     "ename": "KeyboardInterrupt",
     "evalue": "Interrupted by user",
     "output_type": "error",
     "traceback": [
      "\u001b[1;31m---------------------------------------------------------------------------\u001b[0m",
      "\u001b[1;31mKeyboardInterrupt\u001b[0m                         Traceback (most recent call last)",
      "\u001b[1;32m<ipython-input-64-f906fa33f2b9>\u001b[0m in \u001b[0;36m<module>\u001b[1;34m\u001b[0m\n\u001b[1;32m----> 1\u001b[1;33m \u001b[0mdetik\u001b[0m \u001b[1;33m=\u001b[0m \u001b[0mint\u001b[0m \u001b[1;33m(\u001b[0m\u001b[0minput\u001b[0m\u001b[1;33m(\u001b[0m\u001b[1;34m\"detik :\"\u001b[0m\u001b[1;33m)\u001b[0m\u001b[1;33m)\u001b[0m\u001b[1;33m\u001b[0m\u001b[1;33m\u001b[0m\u001b[0m\n\u001b[0m\u001b[0;32m      2\u001b[0m \u001b[1;31m#RUMUS\u001b[0m\u001b[1;33m\u001b[0m\u001b[1;33m\u001b[0m\u001b[1;33m\u001b[0m\u001b[0m\n\u001b[0;32m      3\u001b[0m \u001b[0mhari\u001b[0m \u001b[1;33m=\u001b[0m \u001b[0mdetik\u001b[0m\u001b[1;33m/\u001b[0m\u001b[1;36m86400\u001b[0m\u001b[1;33m\u001b[0m\u001b[1;33m\u001b[0m\u001b[0m\n\u001b[0;32m      4\u001b[0m \u001b[0mmod1\u001b[0m \u001b[1;33m=\u001b[0m\u001b[0mdetik\u001b[0m\u001b[1;33m%\u001b[0m\u001b[1;36m86400\u001b[0m\u001b[1;33m\u001b[0m\u001b[1;33m\u001b[0m\u001b[0m\n\u001b[0;32m      5\u001b[0m \u001b[0mjam\u001b[0m \u001b[1;33m=\u001b[0m\u001b[0mmod1\u001b[0m\u001b[1;33m/\u001b[0m\u001b[1;36m3600\u001b[0m\u001b[1;33m\u001b[0m\u001b[1;33m\u001b[0m\u001b[0m\n",
      "\u001b[1;32m~\\anaconda3\\lib\\site-packages\\ipykernel\\kernelbase.py\u001b[0m in \u001b[0;36mraw_input\u001b[1;34m(self, prompt)\u001b[0m\n\u001b[0;32m    858\u001b[0m                 \u001b[1;34m\"raw_input was called, but this frontend does not support input requests.\"\u001b[0m\u001b[1;33m\u001b[0m\u001b[1;33m\u001b[0m\u001b[0m\n\u001b[0;32m    859\u001b[0m             )\n\u001b[1;32m--> 860\u001b[1;33m         return self._input_request(str(prompt),\n\u001b[0m\u001b[0;32m    861\u001b[0m             \u001b[0mself\u001b[0m\u001b[1;33m.\u001b[0m\u001b[0m_parent_ident\u001b[0m\u001b[1;33m,\u001b[0m\u001b[1;33m\u001b[0m\u001b[1;33m\u001b[0m\u001b[0m\n\u001b[0;32m    862\u001b[0m             \u001b[0mself\u001b[0m\u001b[1;33m.\u001b[0m\u001b[0m_parent_header\u001b[0m\u001b[1;33m,\u001b[0m\u001b[1;33m\u001b[0m\u001b[1;33m\u001b[0m\u001b[0m\n",
      "\u001b[1;32m~\\anaconda3\\lib\\site-packages\\ipykernel\\kernelbase.py\u001b[0m in \u001b[0;36m_input_request\u001b[1;34m(self, prompt, ident, parent, password)\u001b[0m\n\u001b[0;32m    902\u001b[0m             \u001b[1;32mexcept\u001b[0m \u001b[0mKeyboardInterrupt\u001b[0m\u001b[1;33m:\u001b[0m\u001b[1;33m\u001b[0m\u001b[1;33m\u001b[0m\u001b[0m\n\u001b[0;32m    903\u001b[0m                 \u001b[1;31m# re-raise KeyboardInterrupt, to truncate traceback\u001b[0m\u001b[1;33m\u001b[0m\u001b[1;33m\u001b[0m\u001b[1;33m\u001b[0m\u001b[0m\n\u001b[1;32m--> 904\u001b[1;33m                 \u001b[1;32mraise\u001b[0m \u001b[0mKeyboardInterrupt\u001b[0m\u001b[1;33m(\u001b[0m\u001b[1;34m\"Interrupted by user\"\u001b[0m\u001b[1;33m)\u001b[0m \u001b[1;32mfrom\u001b[0m \u001b[1;32mNone\u001b[0m\u001b[1;33m\u001b[0m\u001b[1;33m\u001b[0m\u001b[0m\n\u001b[0m\u001b[0;32m    905\u001b[0m             \u001b[1;32mexcept\u001b[0m \u001b[0mException\u001b[0m \u001b[1;32mas\u001b[0m \u001b[0me\u001b[0m\u001b[1;33m:\u001b[0m\u001b[1;33m\u001b[0m\u001b[1;33m\u001b[0m\u001b[0m\n\u001b[0;32m    906\u001b[0m                 \u001b[0mself\u001b[0m\u001b[1;33m.\u001b[0m\u001b[0mlog\u001b[0m\u001b[1;33m.\u001b[0m\u001b[0mwarning\u001b[0m\u001b[1;33m(\u001b[0m\u001b[1;34m\"Invalid Message:\"\u001b[0m\u001b[1;33m,\u001b[0m \u001b[0mexc_info\u001b[0m\u001b[1;33m=\u001b[0m\u001b[1;32mTrue\u001b[0m\u001b[1;33m)\u001b[0m\u001b[1;33m\u001b[0m\u001b[1;33m\u001b[0m\u001b[0m\n",
      "\u001b[1;31mKeyboardInterrupt\u001b[0m: Interrupted by user"
     ]
    }
   ],
   "source": [
    "detik = int (input(\"detik :\"))\n",
    "#RUMUS\n",
    "hari = detik/86400\n",
    "mod1 =detik%86400\n",
    "jam =mod1/3600\n",
    "mod2=mod1%3600\n",
    "menit=mod1/60\n",
    "detik=\"detik\"\n",
    "#PRINT\n",
    "print (\"Hasil Konversi Detik ke Hari, Jam, dan menit Adalah :\")\n",
    "print (\"hari  :\",hari)\n",
    "print (\"jam   :\",jam)\n",
    "print (\"menit :\",menit)"
   ]
  },
  {
   "cell_type": "code",
   "execution_count": 66,
   "id": "3a0969a4",
   "metadata": {},
   "outputs": [
    {
     "name": "stdout",
     "output_type": "stream",
     "text": [
      "jari-Jari:20\n",
      "Hasil dari Konversi jari-jari ke luas\n",
      "luas: 1257.142857142857\n"
     ]
    }
   ],
   "source": [
    "jari= int (input(\"jari-Jari:\"))\n",
    "#RUMUS\n",
    "luas=(22/7)*jari **2\n",
    "#PRINTOUT\n",
    "print (\"Hasil dari Konversi jari-jari ke luas\")\n",
    "print (\"luas:\",luas)"
   ]
  },
  {
   "cell_type": "code",
   "execution_count": null,
   "id": "6f0328dd",
   "metadata": {},
   "outputs": [],
   "source": []
  },
  {
   "cell_type": "code",
   "execution_count": null,
   "id": "3d101979",
   "metadata": {},
   "outputs": [],
   "source": []
  }
 ],
 "metadata": {
  "kernelspec": {
   "display_name": "Python 3",
   "language": "python",
   "name": "python3"
  },
  "language_info": {
   "codemirror_mode": {
    "name": "ipython",
    "version": 3
   },
   "file_extension": ".py",
   "mimetype": "text/x-python",
   "name": "python",
   "nbconvert_exporter": "python",
   "pygments_lexer": "ipython3",
   "version": "3.8.8"
  }
 },
 "nbformat": 4,
 "nbformat_minor": 5
}
